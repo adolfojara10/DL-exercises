{
 "cells": [
  {
   "cell_type": "code",
   "execution_count": 1,
   "metadata": {},
   "outputs": [],
   "source": [
    "import tensorflow as tf\n",
    "from keras_preprocessing.image import ImageDataGenerator"
   ]
  },
  {
   "cell_type": "markdown",
   "metadata": {},
   "source": [
    "# 1: Data preprocessing"
   ]
  },
  {
   "cell_type": "markdown",
   "metadata": {},
   "source": [
    "# Training set"
   ]
  },
  {
   "cell_type": "code",
   "execution_count": 2,
   "metadata": {},
   "outputs": [],
   "source": [
    "train_datagen = ImageDataGenerator(rescale= 1./255, shear_range=0.2, zoom_range= 0.2, horizontal_flip=True)"
   ]
  },
  {
   "cell_type": "code",
   "execution_count": 3,
   "metadata": {},
   "outputs": [
    {
     "name": "stdout",
     "output_type": "stream",
     "text": [
      "Found 8000 images belonging to 2 classes.\n"
     ]
    }
   ],
   "source": [
    "training_set = train_datagen.flow_from_directory(directory='dataset/training_set',\n",
    "                                                target_size=(64,64),\n",
    "                                                batch_size=32,\n",
    "                                                class_mode='binary')"
   ]
  },
  {
   "cell_type": "markdown",
   "metadata": {},
   "source": [
    "# Test set"
   ]
  },
  {
   "cell_type": "code",
   "execution_count": 4,
   "metadata": {},
   "outputs": [],
   "source": [
    "test_datagen = ImageDataGenerator(rescale=1./255)"
   ]
  },
  {
   "cell_type": "code",
   "execution_count": 5,
   "metadata": {},
   "outputs": [
    {
     "name": "stdout",
     "output_type": "stream",
     "text": [
      "Found 2000 images belonging to 2 classes.\n"
     ]
    }
   ],
   "source": [
    "test_set = test_datagen.flow_from_directory(directory='dataset/test_set', target_size=(64,64), batch_size=32, class_mode='binary')"
   ]
  },
  {
   "cell_type": "markdown",
   "metadata": {},
   "source": [
    "# 2: Building the CNN"
   ]
  },
  {
   "cell_type": "code",
   "execution_count": 6,
   "metadata": {},
   "outputs": [],
   "source": [
    "cnn = tf.keras.Sequential()"
   ]
  },
  {
   "cell_type": "markdown",
   "metadata": {},
   "source": [
    "## Convolutional and pooling 1"
   ]
  },
  {
   "cell_type": "code",
   "execution_count": 7,
   "metadata": {},
   "outputs": [],
   "source": [
    "cnn.add(tf.keras.layers.Conv2D(filters=32, kernel_size=3, activation='relu', input_shape=[64,64,3]))\n",
    "cnn.add(tf.keras.layers.MaxPool2D(pool_size=2, strides=2))"
   ]
  },
  {
   "cell_type": "markdown",
   "metadata": {},
   "source": [
    "## Convolutional and pooling 2"
   ]
  },
  {
   "cell_type": "code",
   "execution_count": 8,
   "metadata": {},
   "outputs": [],
   "source": [
    "cnn.add(tf.keras.layers.Conv2D(filters=32, kernel_size=3, activation='relu'))\n",
    "cnn.add(tf.keras.layers.MaxPool2D(pool_size=(2,2)))"
   ]
  },
  {
   "cell_type": "markdown",
   "metadata": {},
   "source": [
    "## Flattening"
   ]
  },
  {
   "cell_type": "code",
   "execution_count": 9,
   "metadata": {},
   "outputs": [],
   "source": [
    "cnn.add(tf.keras.layers.Flatten())"
   ]
  },
  {
   "cell_type": "markdown",
   "metadata": {},
   "source": [
    "## Connection with an ANN"
   ]
  },
  {
   "cell_type": "code",
   "execution_count": 10,
   "metadata": {},
   "outputs": [],
   "source": [
    "cnn.add(tf.keras.layers.Dense(units=128, activation='relu'))\n",
    "cnn.add(tf.keras.layers.Dense(units=1, activation='sigmoid'))"
   ]
  },
  {
   "cell_type": "markdown",
   "metadata": {},
   "source": [
    "# 3: Training the CNN"
   ]
  },
  {
   "cell_type": "code",
   "execution_count": 11,
   "metadata": {},
   "outputs": [],
   "source": [
    "cnn.compile(optimizer='adam', loss='binary_crossentropy', metrics='accuracy')"
   ]
  },
  {
   "cell_type": "markdown",
   "metadata": {},
   "source": [
    "## Training the cnn on the training_set and evaluating it in the test_set"
   ]
  },
  {
   "cell_type": "code",
   "execution_count": 12,
   "metadata": {},
   "outputs": [
    {
     "name": "stdout",
     "output_type": "stream",
     "text": [
      "Epoch 1/25\n",
      "250/250 [==============================] - 69s 272ms/step - loss: 0.6999 - accuracy: 0.5343 - val_loss: 0.6146 - val_accuracy: 0.6660\n",
      "Epoch 2/25\n",
      "250/250 [==============================] - 65s 258ms/step - loss: 0.6163 - accuracy: 0.6614 - val_loss: 0.5964 - val_accuracy: 0.6885\n",
      "Epoch 3/25\n",
      "250/250 [==============================] - 66s 265ms/step - loss: 0.5720 - accuracy: 0.7049 - val_loss: 0.5391 - val_accuracy: 0.7300\n",
      "Epoch 4/25\n",
      "250/250 [==============================] - 63s 251ms/step - loss: 0.5402 - accuracy: 0.7302 - val_loss: 0.5219 - val_accuracy: 0.7520\n",
      "Epoch 5/25\n",
      "250/250 [==============================] - 54s 214ms/step - loss: 0.5150 - accuracy: 0.7490 - val_loss: 0.5277 - val_accuracy: 0.7420\n",
      "Epoch 6/25\n",
      "250/250 [==============================] - 43s 171ms/step - loss: 0.4945 - accuracy: 0.7587 - val_loss: 0.5539 - val_accuracy: 0.7300\n",
      "Epoch 7/25\n",
      "250/250 [==============================] - 42s 170ms/step - loss: 0.4586 - accuracy: 0.7782 - val_loss: 0.4610 - val_accuracy: 0.7790\n",
      "Epoch 8/25\n",
      "250/250 [==============================] - 46s 183ms/step - loss: 0.4523 - accuracy: 0.7815 - val_loss: 0.4612 - val_accuracy: 0.7865\n",
      "Epoch 9/25\n",
      "250/250 [==============================] - 44s 176ms/step - loss: 0.4407 - accuracy: 0.8009 - val_loss: 0.4568 - val_accuracy: 0.7875\n",
      "Epoch 10/25\n",
      "250/250 [==============================] - 42s 169ms/step - loss: 0.4225 - accuracy: 0.8072 - val_loss: 0.4808 - val_accuracy: 0.7845\n",
      "Epoch 11/25\n",
      "250/250 [==============================] - 42s 168ms/step - loss: 0.4099 - accuracy: 0.8101 - val_loss: 0.4492 - val_accuracy: 0.7880\n",
      "Epoch 12/25\n",
      "250/250 [==============================] - 42s 169ms/step - loss: 0.4023 - accuracy: 0.8163 - val_loss: 0.4526 - val_accuracy: 0.7945\n",
      "Epoch 13/25\n",
      "250/250 [==============================] - 42s 169ms/step - loss: 0.4090 - accuracy: 0.8155 - val_loss: 0.4434 - val_accuracy: 0.8010\n",
      "Epoch 14/25\n",
      "250/250 [==============================] - 42s 168ms/step - loss: 0.3921 - accuracy: 0.8197 - val_loss: 0.4828 - val_accuracy: 0.7885\n",
      "Epoch 15/25\n",
      "250/250 [==============================] - 43s 170ms/step - loss: 0.3793 - accuracy: 0.8263 - val_loss: 0.4656 - val_accuracy: 0.7925\n",
      "Epoch 16/25\n",
      "250/250 [==============================] - 42s 169ms/step - loss: 0.3528 - accuracy: 0.8456 - val_loss: 0.4617 - val_accuracy: 0.7935\n",
      "Epoch 17/25\n",
      "250/250 [==============================] - 42s 168ms/step - loss: 0.3442 - accuracy: 0.8508 - val_loss: 0.4454 - val_accuracy: 0.8035\n",
      "Epoch 18/25\n",
      "250/250 [==============================] - 42s 169ms/step - loss: 0.3360 - accuracy: 0.8560 - val_loss: 0.4655 - val_accuracy: 0.7975\n",
      "Epoch 19/25\n",
      "250/250 [==============================] - 40s 161ms/step - loss: 0.3265 - accuracy: 0.8575 - val_loss: 0.4789 - val_accuracy: 0.7860\n",
      "Epoch 20/25\n",
      "250/250 [==============================] - 41s 164ms/step - loss: 0.3326 - accuracy: 0.8519 - val_loss: 0.4643 - val_accuracy: 0.8030\n",
      "Epoch 21/25\n",
      "250/250 [==============================] - 41s 162ms/step - loss: 0.3006 - accuracy: 0.8718 - val_loss: 0.4772 - val_accuracy: 0.7975\n",
      "Epoch 22/25\n",
      "250/250 [==============================] - 42s 169ms/step - loss: 0.3123 - accuracy: 0.8610 - val_loss: 0.4939 - val_accuracy: 0.7935\n",
      "Epoch 23/25\n",
      "250/250 [==============================] - 46s 183ms/step - loss: 0.2925 - accuracy: 0.8684 - val_loss: 0.5047 - val_accuracy: 0.8000\n",
      "Epoch 24/25\n",
      "250/250 [==============================] - 49s 194ms/step - loss: 0.2836 - accuracy: 0.8797 - val_loss: 0.4798 - val_accuracy: 0.8080\n",
      "Epoch 25/25\n",
      "250/250 [==============================] - 41s 164ms/step - loss: 0.2864 - accuracy: 0.8759 - val_loss: 0.4974 - val_accuracy: 0.8035\n"
     ]
    },
    {
     "data": {
      "text/plain": [
       "<tensorflow.python.keras.callbacks.History at 0x1ce351bfb48>"
      ]
     },
     "execution_count": 12,
     "metadata": {},
     "output_type": "execute_result"
    }
   ],
   "source": [
    "cnn.fit(x=training_set, steps_per_epoch=8000/32, validation_data=test_set, validation_steps=2000/32, epochs=25)"
   ]
  },
  {
   "cell_type": "markdown",
   "metadata": {},
   "source": [
    "# 4: making a prediction"
   ]
  },
  {
   "cell_type": "code",
   "execution_count": 13,
   "metadata": {},
   "outputs": [],
   "source": [
    "import numpy as np\n",
    "from keras.preprocessing import image"
   ]
  },
  {
   "cell_type": "code",
   "execution_count": 18,
   "metadata": {},
   "outputs": [
    {
     "data": {
      "text/plain": [
       "array([[1.]], dtype=float32)"
      ]
     },
     "execution_count": 18,
     "metadata": {},
     "output_type": "execute_result"
    }
   ],
   "source": [
    "test_image = image.load_img(path='dataset/single_prediction/cat_or_dog_1.jpg', target_size=(64,64))\n",
    "test_image = image.img_to_array(test_image)\n",
    "test_image = np.expand_dims(test_image, axis=0)\n",
    "\n",
    "result = cnn.predict(test_image)\n",
    "result"
   ]
  },
  {
   "cell_type": "code",
   "execution_count": 19,
   "metadata": {},
   "outputs": [
    {
     "data": {
      "text/plain": [
       "{'cats': 0, 'dogs': 1}"
      ]
     },
     "execution_count": 19,
     "metadata": {},
     "output_type": "execute_result"
    }
   ],
   "source": [
    "training_set.class_indices"
   ]
  }
 ],
 "metadata": {
  "kernelspec": {
   "display_name": "TF2.4_PY3.7",
   "language": "python",
   "name": "tf2.4_py3.7"
  },
  "language_info": {
   "codemirror_mode": {
    "name": "ipython",
    "version": 3
   },
   "file_extension": ".py",
   "mimetype": "text/x-python",
   "name": "python",
   "nbconvert_exporter": "python",
   "pygments_lexer": "ipython3",
   "version": "3.7.10"
  }
 },
 "nbformat": 4,
 "nbformat_minor": 4
}
