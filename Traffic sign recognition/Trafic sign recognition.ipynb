{
 "cells": [
  {
   "cell_type": "code",
   "execution_count": 1,
   "metadata": {},
   "outputs": [],
   "source": [
    "import numpy as np\n",
    "import pandas as pd \n",
    "import matplotlib.pyplot as plt\n",
    "import tensorflow as tf\n",
    "from PIL import Image\n",
    "import os\n",
    "from sklearn.model_selection import train_test_split\n",
    "from keras.utils import to_categorical\n",
    "from keras.models import Sequential\n",
    "from keras.layers import Conv2D, MaxPool2D, Flatten, Dropout, Dense"
   ]
  },
  {
   "cell_type": "code",
   "execution_count": 2,
   "metadata": {},
   "outputs": [],
   "source": [
    "data = []\n",
    "labels = []\n",
    "number_classes = 43\n",
    "cur_parth = os.getcwd()"
   ]
  },
  {
   "cell_type": "code",
   "execution_count": 4,
   "metadata": {},
   "outputs": [],
   "source": [
    "for i in range (number_classes):\n",
    "    path = os.path.join(cur_parth, 'Train/', str(i))\n",
    "    images = os.listdir(path)\n",
    "    \n",
    "    for a in images:\n",
    "        \n",
    "        try:\n",
    "            image = Image.open(path + '\\\\'+a)\n",
    "            image = image.resize((30,30))\n",
    "            image = np.array(image)\n",
    "            data.append(image)\n",
    "            labels.append(i)\n",
    "        except:\n",
    "            print('Error')\n",
    "            \n",
    "data = np.array(data)\n",
    "labels = np.array(labels)"
   ]
  },
  {
   "cell_type": "code",
   "execution_count": 6,
   "metadata": {},
   "outputs": [
    {
     "data": {
      "text/plain": [
       "(39209, 30, 30, 3)"
      ]
     },
     "execution_count": 6,
     "metadata": {},
     "output_type": "execute_result"
    }
   ],
   "source": [
    "data.shape"
   ]
  },
  {
   "cell_type": "code",
   "execution_count": 13,
   "metadata": {},
   "outputs": [
    {
     "name": "stdout",
     "output_type": "stream",
     "text": [
      "(31367, 30, 30, 3) (7842, 30, 30, 3)\n"
     ]
    }
   ],
   "source": [
    "x_train, x_test, y_train, y_test = train_test_split(data, labels, test_size=0.2, random_state=42)\n",
    "\n",
    "y_train = to_categorical(y_train, 43)\n",
    "y_test = to_categorical(y_test, 43)\n",
    "\n",
    "print(x_train.shape, x_test.shape)"
   ]
  },
  {
   "cell_type": "markdown",
   "metadata": {},
   "source": [
    "# Building the model"
   ]
  },
  {
   "cell_type": "code",
   "execution_count": 14,
   "metadata": {},
   "outputs": [],
   "source": [
    "model = Sequential()\n",
    "model.add(Conv2D(filters=32, kernel_size=(4,4), activation='relu', input_shape= x_train.shape[1:]))\n",
    "model.add(Conv2D(filters=32, kernel_size=(4,4), activation='relu'))\n",
    "model.add(MaxPool2D(pool_size=(2,2)))\n",
    "model.add(Dropout(rate=0.25))\n",
    "\n",
    "model.add(Conv2D(filters=64, kernel_size=(2,2), activation='relu'))\n",
    "model.add(Conv2D(filters=64, kernel_size=(2,2), activation='relu'))\n",
    "model.add(MaxPool2D(pool_size=(2,2)))\n",
    "model.add(Dropout(rate=0.25))\n",
    "\n",
    "model.add(Flatten())\n",
    "\n",
    "model.add(Dense(units=256, activation='relu'))\n",
    "model.add(Dropout(rate=0.5))\n",
    "model.add(Dense(units=43, activation='softmax'))"
   ]
  },
  {
   "cell_type": "code",
   "execution_count": 15,
   "metadata": {},
   "outputs": [],
   "source": [
    "model.compile(optimizer='adam', loss='categorical_crossentropy', metrics=['accuracy'])"
   ]
  },
  {
   "cell_type": "code",
   "execution_count": 16,
   "metadata": {},
   "outputs": [
    {
     "name": "stdout",
     "output_type": "stream",
     "text": [
      "Epoch 1/15\n",
      "491/491 [==============================] - 95s 182ms/step - loss: 4.1195 - accuracy: 0.2477 - val_loss: 0.7745 - val_accuracy: 0.7882\n",
      "Epoch 2/15\n",
      "491/491 [==============================] - 107s 218ms/step - loss: 0.9854 - accuracy: 0.7038 - val_loss: 0.3777 - val_accuracy: 0.8944\n",
      "Epoch 3/15\n",
      "491/491 [==============================] - 106s 216ms/step - loss: 0.6521 - accuracy: 0.7981 - val_loss: 0.2156 - val_accuracy: 0.9439\n",
      "Epoch 4/15\n",
      "491/491 [==============================] - 103s 209ms/step - loss: 0.5035 - accuracy: 0.8455 - val_loss: 0.1493 - val_accuracy: 0.9610\n",
      "Epoch 5/15\n",
      "491/491 [==============================] - 112s 229ms/step - loss: 0.4259 - accuracy: 0.8663 - val_loss: 0.1544 - val_accuracy: 0.9665\n",
      "Epoch 6/15\n",
      "491/491 [==============================] - 110s 224ms/step - loss: 0.3609 - accuracy: 0.8856 - val_loss: 0.1430 - val_accuracy: 0.9615\n",
      "Epoch 7/15\n",
      "491/491 [==============================] - 107s 219ms/step - loss: 0.3534 - accuracy: 0.8896 - val_loss: 0.0987 - val_accuracy: 0.9737\n",
      "Epoch 8/15\n",
      "491/491 [==============================] - 102s 208ms/step - loss: 0.3004 - accuracy: 0.9056 - val_loss: 0.1130 - val_accuracy: 0.9647\n",
      "Epoch 9/15\n",
      "491/491 [==============================] - 85s 173ms/step - loss: 0.2790 - accuracy: 0.9155 - val_loss: 0.0746 - val_accuracy: 0.9767\n",
      "Epoch 10/15\n",
      "491/491 [==============================] - 77s 158ms/step - loss: 0.2574 - accuracy: 0.9195 - val_loss: 0.0756 - val_accuracy: 0.9777\n",
      "Epoch 11/15\n",
      "491/491 [==============================] - 78s 159ms/step - loss: 0.2351 - accuracy: 0.9261 - val_loss: 0.0597 - val_accuracy: 0.9823\n",
      "Epoch 12/15\n",
      "491/491 [==============================] - 78s 158ms/step - loss: 0.2495 - accuracy: 0.9226 - val_loss: 0.0506 - val_accuracy: 0.9871\n",
      "Epoch 13/15\n",
      "491/491 [==============================] - 80s 163ms/step - loss: 0.2332 - accuracy: 0.9278 - val_loss: 0.0508 - val_accuracy: 0.9848\n",
      "Epoch 14/15\n",
      "491/491 [==============================] - 88s 178ms/step - loss: 0.2009 - accuracy: 0.9352 - val_loss: 0.0418 - val_accuracy: 0.9892\n",
      "Epoch 15/15\n",
      "491/491 [==============================] - 92s 188ms/step - loss: 0.1655 - accuracy: 0.9481 - val_loss: 0.0383 - val_accuracy: 0.9915\n"
     ]
    }
   ],
   "source": [
    "EPOCHS = 15\n",
    "history = model.fit(x=x_train, y=y_train, batch_size=64, epochs=EPOCHS, validation_data=(x_test,y_test))"
   ]
  },
  {
   "cell_type": "markdown",
   "metadata": {},
   "source": [
    "# Plotting accuracy"
   ]
  },
  {
   "cell_type": "code",
   "execution_count": 18,
   "metadata": {},
   "outputs": [
    {
     "data": {
      "text/plain": [
       "<function matplotlib.pyplot.legend(*args, **kwargs)>"
      ]
     },
     "execution_count": 18,
     "metadata": {},
     "output_type": "execute_result"
    },
    {
     "data": {
      "image/png": "[encoded data removed]",
      "text/plain": [
       "<Figure size 432x288 with 1 Axes>"
      ]
     },
     "metadata": {
      "needs_background": "light"
     },
     "output_type": "display_data"
    },
    {
     "data": {
      "image/png": "[encoded data removed]",
      "text/plain": [
       "<Figure size 432x288 with 1 Axes>"
      ]
     },
     "metadata": {
      "needs_background": "light"
     },
     "output_type": "display_data"
    }
   ],
   "source": [
    "plt.figure(0)\n",
    "plt.plot(history.history['accuracy'], label='training accuracy')\n",
    "plt.plot(history.history['val_accuracy'], label=' val accuracy')\n",
    "plt.title(\"Accuracy\")\n",
    "plt.xlabel(\"Epochs\")\n",
    "plt.ylabel(\"Accuracy\")\n",
    "plt.legend\n",
    "\n",
    "plt.figure(1)\n",
    "plt.plot(history.history['loss'], label='training loss')\n",
    "plt.plot(history.history['val_loss'], label='val loss')\n",
    "plt.title(\"Loss\")\n",
    "plt.xlabel(\"Epochs\")\n",
    "plt.ylabel(\"Loss\")\n",
    "plt.legend\n"
   ]
  },
  {
   "cell_type": "markdown",
   "metadata": {},
   "source": [
    "# Testing the model"
   ]
  },
  {
   "cell_type": "code",
   "execution_count": 19,
   "metadata": {},
   "outputs": [
    {
     "data": {
      "text/plain": [
       "<bound method NDFrame.head of        Width  Height  Roi.X1  Roi.Y1  Roi.X2  Roi.Y2  ClassId            Path\n",
       "0         53      54       6       5      48      49       16  Test/00000.png\n",
       "1         42      45       5       5      36      40        1  Test/00001.png\n",
       "2         48      52       6       6      43      47       38  Test/00002.png\n",
       "3         27      29       5       5      22      24       33  Test/00003.png\n",
       "4         60      57       5       5      55      52       11  Test/00004.png\n",
       "...      ...     ...     ...     ...     ...     ...      ...             ...\n",
       "12625     42      41       5       6      37      36       12  Test/12625.png\n",
       "12626     50      51       6       5      45      46       33  Test/12626.png\n",
       "12627     29      29       6       6      24      24        6  Test/12627.png\n",
       "12628     48      49       5       6      43      44        7  Test/12628.png\n",
       "12629     32      31       6       5      27      26       10  Test/12629.png\n",
       "\n",
       "[12630 rows x 8 columns]>"
      ]
     },
     "execution_count": 19,
     "metadata": {},
     "output_type": "execute_result"
    }
   ],
   "source": [
    "from sklearn.metrics import accuracy_score\n",
    "test_set = pd.read_csv('Test.csv')\n",
    "\n",
    "test_set.head"
   ]
  },
  {
   "cell_type": "code",
   "execution_count": 21,
   "metadata": {},
   "outputs": [
    {
     "name": "stderr",
     "output_type": "stream",
     "text": [
      "C:\\Users\\User\\anaconda3\\envs\\test\\lib\\site-packages\\tensorflow\\python\\keras\\engine\\sequential.py:450: UserWarning: `model.predict_classes()` is deprecated and will be removed after 2021-01-01. Please use instead:* `np.argmax(model.predict(x), axis=-1)`,   if your model does multi-class classification   (e.g. if it uses a `softmax` last-layer activation).* `(model.predict(x) > 0.5).astype(\"int32\")`,   if your model does binary classification   (e.g. if it uses a `sigmoid` last-layer activation).\n",
      "  warnings.warn('`model.predict_classes()` is deprecated and '\n"
     ]
    },
    {
     "name": "stdout",
     "output_type": "stream",
     "text": [
      "0.9634204275534441\n"
     ]
    }
   ],
   "source": [
    "labels_test = test_set['ClassId'].values\n",
    "imgs = test_set['Path'].values\n",
    "\n",
    "data = []\n",
    "\n",
    "\n",
    "for i in imgs:\n",
    "    \n",
    "    image = Image.open(i)\n",
    "    image = image.resize((30,30))\n",
    "    image = np.array(image)\n",
    "    \n",
    "    data.append(image)\n",
    "    \n",
    "data = np.array(data)\n",
    "\n",
    "prediction = model.predict_classes(data)\n",
    "\n",
    "acc = accuracy_score(prediction, labels_test)\n",
    "\n",
    "print(acc)\n"
   ]
  },
  {
   "cell_type": "code",
   "execution_count": 22,
   "metadata": {},
   "outputs": [],
   "source": [
    "model.save('traffic_signs_recognition.h5')"
   ]
  }
 ],
 "metadata": {
  "kernelspec": {
   "display_name": "TF2.4_PY3.7",
   "language": "python",
   "name": "tf2.4_py3.7"
  },
  "language_info": {
   "codemirror_mode": {
    "name": "ipython",
    "version": 3
   },
   "file_extension": ".py",
   "mimetype": "text/x-python",
   "name": "python",
   "nbconvert_exporter": "python",
   "pygments_lexer": "ipython3",
   "version": "3.7.10"
  }
 },
 "nbformat": 4,
 "nbformat_minor": 4
}
